{
 "cells": [
  {
   "cell_type": "markdown",
   "metadata": {},
   "source": [
    "# Demonstration of Quandl API"
   ]
  },
  {
   "cell_type": "markdown",
   "metadata": {},
   "source": [
    "## Data and Inputs:\n",
    "\n",
    "The data will use the following stocks in the portfolio:\n",
    "\n",
    "- Apple\n",
    "- Amazon\n",
    "- Exelon Corporation \n",
    "- Nasdaq\n",
    "- Royal Gold Inc.\n",
    "<br>\n",
    "\n",
    "**Training and Testing Data Period:** <br>\n",
    "Start Date: July 1, 2015 <br>\n",
    "End Date: Dec 31, 2018"
   ]
  },
  {
   "cell_type": "markdown",
   "metadata": {},
   "source": [
    "# Set up the notebook\n",
    "We will begin by importing all the necessary Python modules required to run the notebook."
   ]
  },
  {
   "cell_type": "code",
   "execution_count": 261,
   "metadata": {},
   "outputs": [],
   "source": [
    "%matplotlib inline\n",
    "\n",
    "import quandl\n",
    "import pandas as pd\n",
    "import matplotlib.pyplot as plt\n",
    "import numpy as np"
   ]
  },
  {
   "cell_type": "markdown",
   "metadata": {},
   "source": [
    "# Load and Explore the Data\n",
    "We will trading data, collected over the time period of:\n",
    "\n",
    "**Start Date:** July 1, 2015 <br> \n",
    "**End Date:** Dec 31, 2018    \n",
    "    \n",
    "The cell below will download this data from the quandl API, giving you data in the form of a pandas dataframe."
   ]
  },
  {
   "cell_type": "code",
   "execution_count": 262,
   "metadata": {},
   "outputs": [],
   "source": [
    "start_date = \"2015-7-1\"\n",
    "end_date = \"2017-12-31\""
   ]
  },
  {
   "cell_type": "code",
   "execution_count": 263,
   "metadata": {},
   "outputs": [],
   "source": [
    "dfAAPL = quandl.get(\"WIKI/AAPL\", start_date=\"2015-7-1\", end_date=\"2017-12-31\")\n",
    "dfAAPL = dfAAPL.rename(columns={'Adj. Close':'AAPL'})\n",
    "\n",
    "dfAMZN = quandl.get(\"WIKI/AMZN\", start_date=\"2015-7-1\", end_date=\"2017-12-31\")\n",
    "dfAMZN = dfAMZN.rename(columns={'Adj. Close':'AMZN'})\n",
    "\n",
    "dfEXC = quandl.get(\"WIKI/EXC\", start_date=\"2015-7-1\", end_date=\"2017-12-31\")\n",
    "dfEXC = dfEXC.rename(columns={'Adj. Close':'EXC'})\n",
    "\n",
    "dfNDAQ = quandl.get(\"WIKI/NDAQ\", start_date=\"2015-7-1\", end_date=\"2017-12-31\")\n",
    "dfNDAQ = dfNDAQ.rename(columns={'Adj. Close':'NDAQ'})\n",
    "\n",
    "dfRGLD = quandl.get(\"WIKI/RGLD\", start_date=\"2015-7-1\", end_date=\"2017-12-31\")\n",
    "dfRGLD = dfRGLD.rename(columns={'Adj. Close':'RGLD'})\n"
   ]
  },
  {
   "cell_type": "markdown",
   "metadata": {},
   "source": [
    "# Pre-Process the Data\n",
    "\n",
    "The /quandl dataframes have the following attributes:\n",
    "* Date\n",
    "* Open\n",
    "* High\n",
    "* Low\n",
    "* Close\n",
    "* Volume\n",
    "* Ex-Dividend\n",
    "* Split Ratio\n",
    "* Adj. Open\n",
    "* Adj. High\n",
    "* Adj. Low\n",
    "* Adj. Close\n",
    "* Adj. Volume\n",
    "\n",
    "Of all these columns, we will use only ***Adj. Close***. This is because the trading data is very volatile and \n",
    "changes several times within a day. Adjusted closing price factors a stock's value to reflect any corporate \n",
    "actions such as dividends, rights offerings and stock splits. For more information, [visit this post.](https://www.investopedia.com/terms/a/adjusted_closing_price.asp#:~:text=The%20adjusted%20closing%20price%20amends,detailed%20analysis%20of%20past%20performance.)\n",
    "\n",
    "This is the reason why you will notice that each of the stock's adjusted price has been renamed to its ticker symbol in the cell above."
   ]
  },
  {
   "cell_type": "markdown",
   "metadata": {},
   "source": [
    "**Below, we will create a new DataFrame and join the portfolio value from the individual DataFrames above.**"
   ]
  },
  {
   "cell_type": "code",
   "execution_count": 264,
   "metadata": {},
   "outputs": [
    {
     "data": {
      "text/html": [
       "<div>\n",
       "<style scoped>\n",
       "    .dataframe tbody tr th:only-of-type {\n",
       "        vertical-align: middle;\n",
       "    }\n",
       "\n",
       "    .dataframe tbody tr th {\n",
       "        vertical-align: top;\n",
       "    }\n",
       "\n",
       "    .dataframe thead th {\n",
       "        text-align: right;\n",
       "    }\n",
       "</style>\n",
       "<table border=\"1\" class=\"dataframe\">\n",
       "  <thead>\n",
       "    <tr style=\"text-align: right;\">\n",
       "      <th></th>\n",
       "      <th>AAPL</th>\n",
       "      <th>AMZN</th>\n",
       "      <th>EXC</th>\n",
       "      <th>NDAQ</th>\n",
       "      <th>RGLD</th>\n",
       "    </tr>\n",
       "    <tr>\n",
       "      <th>Date</th>\n",
       "      <th></th>\n",
       "      <th></th>\n",
       "      <th></th>\n",
       "      <th></th>\n",
       "      <th></th>\n",
       "    </tr>\n",
       "  </thead>\n",
       "  <tbody>\n",
       "    <tr>\n",
       "      <th>2015-07-01</th>\n",
       "      <td>121.243068</td>\n",
       "      <td>437.39</td>\n",
       "      <td>29.107162</td>\n",
       "      <td>46.691199</td>\n",
       "      <td>58.987619</td>\n",
       "    </tr>\n",
       "    <tr>\n",
       "      <th>2015-07-02</th>\n",
       "      <td>121.089838</td>\n",
       "      <td>437.71</td>\n",
       "      <td>29.400710</td>\n",
       "      <td>47.093792</td>\n",
       "      <td>60.214716</td>\n",
       "    </tr>\n",
       "    <tr>\n",
       "      <th>2015-07-06</th>\n",
       "      <td>120.668456</td>\n",
       "      <td>436.04</td>\n",
       "      <td>29.299803</td>\n",
       "      <td>46.739127</td>\n",
       "      <td>61.282387</td>\n",
       "    </tr>\n",
       "    <tr>\n",
       "      <th>2015-07-07</th>\n",
       "      <td>120.371574</td>\n",
       "      <td>436.72</td>\n",
       "      <td>30.061194</td>\n",
       "      <td>46.815812</td>\n",
       "      <td>59.548025</td>\n",
       "    </tr>\n",
       "    <tr>\n",
       "      <th>2015-07-08</th>\n",
       "      <td>117.383593</td>\n",
       "      <td>429.70</td>\n",
       "      <td>29.905246</td>\n",
       "      <td>45.876428</td>\n",
       "      <td>59.678465</td>\n",
       "    </tr>\n",
       "    <tr>\n",
       "      <th>...</th>\n",
       "      <td>...</td>\n",
       "      <td>...</td>\n",
       "      <td>...</td>\n",
       "      <td>...</td>\n",
       "      <td>...</td>\n",
       "    </tr>\n",
       "    <tr>\n",
       "      <th>2017-12-22</th>\n",
       "      <td>175.010000</td>\n",
       "      <td>1168.36</td>\n",
       "      <td>39.010000</td>\n",
       "      <td>76.090000</td>\n",
       "      <td>86.560000</td>\n",
       "    </tr>\n",
       "    <tr>\n",
       "      <th>2017-12-26</th>\n",
       "      <td>170.570000</td>\n",
       "      <td>1176.76</td>\n",
       "      <td>38.810000</td>\n",
       "      <td>76.130000</td>\n",
       "      <td>87.650000</td>\n",
       "    </tr>\n",
       "    <tr>\n",
       "      <th>2017-12-27</th>\n",
       "      <td>170.600000</td>\n",
       "      <td>1182.26</td>\n",
       "      <td>38.990000</td>\n",
       "      <td>76.340000</td>\n",
       "      <td>86.730000</td>\n",
       "    </tr>\n",
       "    <tr>\n",
       "      <th>2017-12-28</th>\n",
       "      <td>171.080000</td>\n",
       "      <td>1186.10</td>\n",
       "      <td>39.300000</td>\n",
       "      <td>76.670000</td>\n",
       "      <td>82.050000</td>\n",
       "    </tr>\n",
       "    <tr>\n",
       "      <th>2017-12-29</th>\n",
       "      <td>169.230000</td>\n",
       "      <td>1169.47</td>\n",
       "      <td>39.410000</td>\n",
       "      <td>76.830000</td>\n",
       "      <td>82.120000</td>\n",
       "    </tr>\n",
       "  </tbody>\n",
       "</table>\n",
       "<p>629 rows × 5 columns</p>\n",
       "</div>"
      ],
      "text/plain": [
       "                  AAPL     AMZN        EXC       NDAQ       RGLD\n",
       "Date                                                            \n",
       "2015-07-01  121.243068   437.39  29.107162  46.691199  58.987619\n",
       "2015-07-02  121.089838   437.71  29.400710  47.093792  60.214716\n",
       "2015-07-06  120.668456   436.04  29.299803  46.739127  61.282387\n",
       "2015-07-07  120.371574   436.72  30.061194  46.815812  59.548025\n",
       "2015-07-08  117.383593   429.70  29.905246  45.876428  59.678465\n",
       "...                ...      ...        ...        ...        ...\n",
       "2017-12-22  175.010000  1168.36  39.010000  76.090000  86.560000\n",
       "2017-12-26  170.570000  1176.76  38.810000  76.130000  87.650000\n",
       "2017-12-27  170.600000  1182.26  38.990000  76.340000  86.730000\n",
       "2017-12-28  171.080000  1186.10  39.300000  76.670000  82.050000\n",
       "2017-12-29  169.230000  1169.47  39.410000  76.830000  82.120000\n",
       "\n",
       "[629 rows x 5 columns]"
      ]
     },
     "execution_count": 264,
     "metadata": {},
     "output_type": "execute_result"
    }
   ],
   "source": [
    "start_date=\"2015-07-1\"\n",
    "end_date=\"2017-12-31\"\n",
    "\n",
    "Date = pd.date_range(start_date, end_date)\n",
    "\n",
    "df=pd.DataFrame(index=Date)\n",
    "\n",
    "df = pd.concat([dfAAPL, dfAMZN, dfEXC, dfNDAQ, dfRGLD], axis=1)\n",
    "df = df.dropna()\n",
    "df = df[['AAPL', 'AMZN', 'EXC', 'NDAQ', 'RGLD']]\n",
    "\n",
    "df"
   ]
  },
  {
   "cell_type": "markdown",
   "metadata": {},
   "source": [
    "# Visualize the Data\n",
    "\n",
    "We will now plot the data from the DataFrame that we created to visualize the progress."
   ]
  },
  {
   "cell_type": "code",
   "execution_count": 265,
   "metadata": {},
   "outputs": [
    {
     "data": {
      "image/png": "[encoded data removed]",
      "text/plain": [
       "<Figure size 432x288 with 1 Axes>"
      ]
     },
     "metadata": {
      "needs_background": "light"
     },
     "output_type": "display_data"
    }
   ],
   "source": [
    "def plot_data(df, title=\"Stock prices\"):\n",
    "    \"\"\"Plot stock prices with a custom title and meaningful axis labels.\"\"\"\n",
    "    ax = df.plot(title=title, fontsize=12)\n",
    "    ax.set_xlabel(\"Date\")\n",
    "    ax.set_ylabel(\"Price\")\n",
    "    plt.show()\n",
    "    \n",
    "plot_data(df)"
   ]
  },
  {
   "cell_type": "markdown",
   "metadata": {},
   "source": [
    "# Normalize the Data\n",
    "\n",
    "Since the stocks trade at significantly different prices, it is hard to make a fair comparison. We will make them all \n",
    "begin at one fair point so that the comparison is on an equal footing. We will achieve this using data normalization. We will normalize price data, so that each value begins at 1."
   ]
  },
  {
   "cell_type": "code",
   "execution_count": 266,
   "metadata": {},
   "outputs": [
    {
     "data": {
      "text/html": [
       "<div>\n",
       "<style scoped>\n",
       "    .dataframe tbody tr th:only-of-type {\n",
       "        vertical-align: middle;\n",
       "    }\n",
       "\n",
       "    .dataframe tbody tr th {\n",
       "        vertical-align: top;\n",
       "    }\n",
       "\n",
       "    .dataframe thead th {\n",
       "        text-align: right;\n",
       "    }\n",
       "</style>\n",
       "<table border=\"1\" class=\"dataframe\">\n",
       "  <thead>\n",
       "    <tr style=\"text-align: right;\">\n",
       "      <th></th>\n",
       "      <th>AAPL</th>\n",
       "      <th>AMZN</th>\n",
       "      <th>EXC</th>\n",
       "      <th>NDAQ</th>\n",
       "      <th>RGLD</th>\n",
       "    </tr>\n",
       "    <tr>\n",
       "      <th>Date</th>\n",
       "      <th></th>\n",
       "      <th></th>\n",
       "      <th></th>\n",
       "      <th></th>\n",
       "      <th></th>\n",
       "    </tr>\n",
       "  </thead>\n",
       "  <tbody>\n",
       "    <tr>\n",
       "      <th>2015-07-01</th>\n",
       "      <td>1.000000</td>\n",
       "      <td>1.000000</td>\n",
       "      <td>1.000000</td>\n",
       "      <td>1.000000</td>\n",
       "      <td>1.000000</td>\n",
       "    </tr>\n",
       "    <tr>\n",
       "      <th>2015-07-02</th>\n",
       "      <td>0.998736</td>\n",
       "      <td>1.000732</td>\n",
       "      <td>1.010085</td>\n",
       "      <td>1.008622</td>\n",
       "      <td>1.020803</td>\n",
       "    </tr>\n",
       "    <tr>\n",
       "      <th>2015-07-06</th>\n",
       "      <td>0.995261</td>\n",
       "      <td>0.996914</td>\n",
       "      <td>1.006618</td>\n",
       "      <td>1.001026</td>\n",
       "      <td>1.038903</td>\n",
       "    </tr>\n",
       "    <tr>\n",
       "      <th>2015-07-07</th>\n",
       "      <td>0.992812</td>\n",
       "      <td>0.998468</td>\n",
       "      <td>1.032777</td>\n",
       "      <td>1.002669</td>\n",
       "      <td>1.009500</td>\n",
       "    </tr>\n",
       "    <tr>\n",
       "      <th>2015-07-08</th>\n",
       "      <td>0.968167</td>\n",
       "      <td>0.982418</td>\n",
       "      <td>1.027419</td>\n",
       "      <td>0.982550</td>\n",
       "      <td>1.011712</td>\n",
       "    </tr>\n",
       "  </tbody>\n",
       "</table>\n",
       "</div>"
      ],
      "text/plain": [
       "                AAPL      AMZN       EXC      NDAQ      RGLD\n",
       "Date                                                        \n",
       "2015-07-01  1.000000  1.000000  1.000000  1.000000  1.000000\n",
       "2015-07-02  0.998736  1.000732  1.010085  1.008622  1.020803\n",
       "2015-07-06  0.995261  0.996914  1.006618  1.001026  1.038903\n",
       "2015-07-07  0.992812  0.998468  1.032777  1.002669  1.009500\n",
       "2015-07-08  0.968167  0.982418  1.027419  0.982550  1.011712"
      ]
     },
     "execution_count": 266,
     "metadata": {},
     "output_type": "execute_result"
    }
   ],
   "source": [
    "def normalize_data(df):\n",
    "    df = df/df.iloc[0, :]\n",
    "    return df\n",
    "df = normalize_data(df)\n",
    "df.head()"
   ]
  },
  {
   "cell_type": "markdown",
   "metadata": {},
   "source": [
    "# Plot Normalized Data\n",
    "\n",
    "On plotting this normalized data, we will find that the stocks movement is relatively closer together. Hence we can\n",
    "make a fair comparison."
   ]
  },
  {
   "cell_type": "code",
   "execution_count": 267,
   "metadata": {},
   "outputs": [
    {
     "data": {
      "image/png": "[encoded data removed]",
      "text/plain": [
       "<Figure size 432x288 with 1 Axes>"
      ]
     },
     "metadata": {
      "needs_background": "light"
     },
     "output_type": "display_data"
    }
   ],
   "source": [
    "plot_data(df)"
   ]
  }
 ],
 "metadata": {
  "kernelspec": {
   "display_name": "Python 3",
   "language": "python",
   "name": "python3"
  },
  "language_info": {
   "codemirror_mode": {
    "name": "ipython",
    "version": 3
   },
   "file_extension": ".py",
   "mimetype": "text/x-python",
   "name": "python",
   "nbconvert_exporter": "python",
   "pygments_lexer": "ipython3",
   "version": "3.7.7"
  }
 },
 "nbformat": 4,
 "nbformat_minor": 4
}
